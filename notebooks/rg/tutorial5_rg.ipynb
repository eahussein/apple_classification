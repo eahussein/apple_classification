{
 "cells": [
  {
   "cell_type": "markdown",
   "id": "6f893407-c45b-4a97-8906-702e72754885",
   "metadata": {},
   "source": [
    "# Tutorial5: graphs on the training set - (RG)"
   ]
  },
  {
   "cell_type": "markdown",
   "id": "8c75a388-2294-4728-a3e9-13490f32a095",
   "metadata": {},
   "source": [
    "This tutorial graphs the training models for the feature selection methods, and displays the location of the best 50 features."
   ]
  },
  {
   "cell_type": "markdown",
   "id": "7f7f0a3d-c257-43a6-84d1-643324886063",
   "metadata": {},
   "source": [
    "---"
   ]
  },
  {
   "cell_type": "code",
   "execution_count": 1,
   "id": "1ba5b328-7469-449d-b8ee-2360db0432f4",
   "metadata": {},
   "outputs": [],
   "source": [
    "import numpy as np\n",
    "from sklearn.linear_model import LogisticRegression\n",
    "import pandas as pd # for importing data into data frame format\n",
    "import seaborn as sns # For drawing useful graphs, such as bar graphs\n",
    "import matplotlib.pyplot as plt"
   ]
  },
  {
   "cell_type": "code",
   "execution_count": 2,
   "id": "1eef33ad-651e-48f9-9d39-eef368607c46",
   "metadata": {},
   "outputs": [],
   "source": [
    "lr = LogisticRegression()\n",
    "models = [[lr, 'lr', 14]]"
   ]
  },
  {
   "cell_type": "code",
   "execution_count": 3,
   "id": "eaaae12b-34bf-46f6-8a5a-9884c196363a",
   "metadata": {},
   "outputs": [],
   "source": [
    "import json"
   ]
  },
  {
   "cell_type": "code",
   "execution_count": 4,
   "id": "02c4f2c1-a7cc-457e-9034-bc84d1ec8521",
   "metadata": {
    "tags": []
   },
   "outputs": [],
   "source": [
    "with open('ml_rg_rfs.txt') as f:\n",
    "    data = f.read()\n",
    "    \n",
    "ml_dicts = json.loads(data)\n",
    "\n",
    "with open('ml_rg_sfs.txt') as f:\n",
    "    data = f.read()\n",
    "    \n",
    "ml_dicts6 = json.loads(data)"
   ]
  },
  {
   "cell_type": "markdown",
   "id": "54ad98f0-ccdc-4d94-b6e1-246ad2eeff1e",
   "metadata": {},
   "source": [
    "---"
   ]
  },
  {
   "cell_type": "code",
   "execution_count": 5,
   "id": "5dd5f1be-96e6-4d5f-b781-db4b02f11952",
   "metadata": {},
   "outputs": [],
   "source": [
    "from source.calculate_jack import jack_SD # importing the baseline code from source.basline file"
   ]
  },
  {
   "cell_type": "code",
   "execution_count": 6,
   "id": "e38e5fcd-f6a0-42de-a8b4-891ead0c9bcf",
   "metadata": {},
   "outputs": [],
   "source": [
    "def acc (ml_dicts, models):\n",
    "    arr_all = []\n",
    "    for m, d in zip (models, ml_dicts.keys()):\n",
    "        acc_arr = [] \n",
    "        sd_arr = [] \n",
    "\n",
    "        # print(ml_dicts[d])\n",
    "        for key in ml_dicts[d].keys():\n",
    "            acc_arr.append(ml_dicts[d][key][ 'tot_acc' ]) # append total accuracy to an array\n",
    "            sd_train = jack_SD(np.zeros( len(ml_dicts[d][key][ 'jack_train' ]) ), ml_dicts[d][key][ 'jack_train' ])[0]\n",
    "            sd_test = jack_SD(np.zeros( len(ml_dicts[d][key][ 'jack_test' ]) ), ml_dicts[d][key][ 'jack_test' ])[0]\n",
    "            sd = np.sqrt( np.array((sd_train**2)) + np.array((sd_test**2)))\n",
    "            sd_arr.append(sd) # append sd_arr to an array\n",
    "        arr_all.append([ list(ml_dicts[d].keys()), acc_arr, sd_arr])    \n",
    "    return  arr_all   "
   ]
  },
  {
   "cell_type": "code",
   "execution_count": 7,
   "id": "310a7efa-6396-45dc-b7c9-ef39a979e0cb",
   "metadata": {},
   "outputs": [],
   "source": [
    "arr_all = acc(ml_dicts, models)\n",
    "arr_all6 = acc(ml_dicts6, models)"
   ]
  },
  {
   "cell_type": "code",
   "execution_count": 8,
   "id": "55a1daa9-9415-4b03-b738-09e74f7196e5",
   "metadata": {},
   "outputs": [
    {
     "data": {
      "image/png": "[encoded data removed]",
      "text/plain": [
       "<Figure size 1080x504 with 1 Axes>"
      ]
     },
     "metadata": {
      "needs_background": "light"
     },
     "output_type": "display_data"
    }
   ],
   "source": [
    "plt.figure(figsize=(15, 7))\n",
    "plt.title(\"RG apples\", fontweight ='bold', fontsize =14)    \n",
    "plt.xlabel(\"Features\", fontweight ='bold', fontsize =14)\n",
    "plt.ylabel(\"Precision\", fontweight ='bold', fontsize =14)\n",
    "\n",
    "count = 0\n",
    "n = 4\n",
    "\n",
    "space = []\n",
    "tickFeat = []\n",
    "\n",
    "for result, model in zip(arr_all, models):\n",
    "    a = np.linspace(n*count, n*(1+count)-2,50)\n",
    "    # print(a)\n",
    "    space.extend(a)\n",
    "    tickFeat.extend(result[0])\n",
    "    plt.errorbar( a, result[1], result[2], fmt='o', label =model[1]+\"-RFE\", color = 'blue')\n",
    "    count += 1\n",
    "count = 0\n",
    "    \n",
    "for result, model in zip(arr_all6, models):\n",
    "    a = np.linspace(n*count, n*(1+count)-2,50)\n",
    "    # print(a)\n",
    "    space.extend(a)\n",
    "    tickFeat.extend(result[0])\n",
    "    plt.errorbar( a, result[1], result[2], fmt='o', label =model[1]+\"-SFS\", color = 'red')\n",
    "    count += 1\n",
    "\n",
    "plt.plot(np.array(space),[0.9187]*100, color = 'Black')        \n",
    "plt.xticks(space, tickFeat, rotation = 'vertical',  fontsize =12)\n",
    "plt.ylim(.2, 1)\n",
    "plt.legend()\n",
    "\n",
    "plt.show()"
   ]
  },
  {
   "cell_type": "markdown",
   "id": "91964d08-b870-4637-9bb3-999790b80d8b",
   "metadata": {},
   "source": [
    "---"
   ]
  },
  {
   "cell_type": "code",
   "execution_count": 2,
   "id": "85deea14-a57f-43ab-ab70-ffb99c0dec0d",
   "metadata": {},
   "outputs": [],
   "source": [
    "\n",
    "# imp_freq = [1312.065, 874.121, 1312.729, 873.826, 1313.394, 882.151, 1314.06, 1503.852, 1311.401, 894.322, 1310.738, 894.014, 1308.754, 1309.415, 898.662, 1509.104, 1308.093, 900.535, 1310.076, 1502.98, 2480.996, 1508.226, 1307.433, 900.848, 1306.774, 900.222, 1306.116, 1509.983, 1301.526, 904.936, 1300.873, 899.91, 1507.349, 1302.18, 904.62, 1314.726, 2483.372, 1506.473, 1300.221, 904.305, 1305.458, 1512.626, 912.58, 1302.834, 1299.569, 898.351, 1502.109, 1304.801, 1920.475, 903.989]\n",
    "\n",
    "imp_freq6 = [1840.057, 1486.606, 904.62, 1168.909, 888.5, 980.575, 1152.285, 1522.396, 1857.192, 1861.192, 976.513, 882.451, 1136.126, 1523.291, 1399.159, 1123.815, 1022.335, 1028.01, 1126.745, 1127.235, 948.99, 953.878, 1862.529, 1023.95, 1125.278, 1122.841, 946.565, 954.58, 951.777, 1127.725, 1125.767, 1537.747, 1026.788, 1541.403, 1120.9, 1019.521, 953.527, 952.827, 1538.659, 1025.57, 949.686, 952.126, 1126.256, 1539.573, 951.428, 950.033, 951.078, 952.476, 1025.164, 1023.142]"
   ]
  },
  {
   "cell_type": "code",
   "execution_count": 3,
   "id": "4cd84146-d045-4b40-8c09-ea75cfff975e",
   "metadata": {},
   "outputs": [
    {
     "name": "stdout",
     "output_type": "stream",
     "text": [
      "5\n",
      "[1840.057, 1486.606, 904.62, 1168.909, 888.5, 980.575, 1152.285, 1522.396, 1857.192, 1861.192]\n",
      "4\n",
      "[976.513, 882.451, 1136.126, 1523.291, 1399.159, 1123.815, 1022.335, 1028.01, 1126.745, 1127.235]\n",
      "3\n",
      "[948.99, 953.878, 1862.529, 1023.95, 1125.278, 1122.841, 946.565, 954.58, 951.777, 1127.725]\n",
      "2\n",
      "[1125.767, 1537.747, 1026.788, 1541.403, 1120.9, 1019.521, 953.527, 952.827, 1538.659, 1025.57]\n",
      "1\n",
      "[949.686, 952.126, 1126.256, 1539.573, 951.428, 950.033, 951.078, 952.476, 1025.164, 1023.142]\n"
     ]
    },
    {
     "data": {
      "image/png": "[encoded data removed]",
      "text/plain": [
       "<Figure size 504x288 with 1 Axes>"
      ]
     },
     "metadata": {
      "needs_background": "light"
     },
     "output_type": "display_data"
    }
   ],
   "source": [
    "plt.rcParams[\"figure.figsize\"] = (7,4)\n",
    "# plt.xlabel(\"Features\", fontweight ='bold', fontsize =12)\n",
    "# plt.ylabel(\"Precision\", fontweight ='bold', fontsize =12)\n",
    "\n",
    "arrr= [0, 10, 20, 30, 40, 50]\n",
    "colrs = ['red', 'blue', 'green', 'yellow']\n",
    "for i in range (5):\n",
    "    print((5-i))\n",
    "    print(imp_freq6[arrr[i]:arrr[i+1]])\n",
    "    \n",
    "    if i  == 0:\n",
    "        # plt.scatter( imp_freq[arrr[i]:arrr[i+1]],  np.zeros(10)+(5-i), color = 'blue', label =\"RFE\", marker = 'x')\n",
    "        plt.scatter( imp_freq6[arrr[i]:arrr[i+1]], np.zeros(10)+(5-i), color = 'red', label =\"SFS\", marker = 'x')\n",
    "    else:\n",
    "        # plt.scatter( imp_freq[arrr[i]:arrr[i+1]], np.zeros(10)+(5-i), color = 'blue', marker = 'x')\n",
    "        plt.scatter( imp_freq6[arrr[i]:arrr[i+1]], np.zeros(10)+(5-i), color = 'red', marker = 'x' )\n",
    "     \n",
    "\n",
    "plt.xlim(780, 2550)\n",
    "ylabels = ['41-50', '31-40', '21-30', '11-20','01-10'  ]\n",
    "plt.yticks([1,2,3,4,5], ylabels)\n",
    "\n",
    "plt.title(\"RG apples\", fontweight ='bold', fontsize =12)    \n",
    "plt.xlabel(\"Wavelength (nm)\", fontweight ='bold', fontsize =12)\n",
    "plt.ylabel(\"Feature ranking\", fontweight ='bold', fontsize =12)\n",
    "plt.legend(bbox_to_anchor =(1, 1.14))    \n",
    "plt.show()"
   ]
  },
  {
   "cell_type": "markdown",
   "id": "f9b426a6-d071-4aa2-8da8-b80cb9d3572f",
   "metadata": {},
   "source": [
    "---"
   ]
  },
  {
   "cell_type": "code",
   "execution_count": null,
   "id": "dd1039a0-5508-4aa4-8f8a-6ad2d30cbc96",
   "metadata": {},
   "outputs": [],
   "source": []
  }
 ],
 "metadata": {
  "kernelspec": {
   "display_name": "ASTRO-GPU",
   "language": "python",
   "name": "astro-gpu"
  },
  "language_info": {
   "codemirror_mode": {
    "name": "ipython",
    "version": 3
   },
   "file_extension": ".py",
   "mimetype": "text/x-python",
   "name": "python",
   "nbconvert_exporter": "python",
   "pygments_lexer": "ipython3",
   "version": "3.8.5"
  }
 },
 "nbformat": 4,
 "nbformat_minor": 5
}
